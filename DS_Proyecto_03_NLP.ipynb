{
 "cells": [
  {
   "cell_type": "markdown",
   "metadata": {
    "colab_type": "text",
    "id": "2GRQnxMzISE_"
   },
   "source": [
    "# Proyecto 03 - Procesamiento del Lenguaje Natural\n",
    "\n",
    "## Dataset: The Multilingual Amazon Reviews Corpus\n",
    "\n",
    "**Recuerda descargar el dataset de [aquí](https://github.com/kang205/SASRec). Es un archivo .zip que contiene tres documentos. Más información sobre el dataset [aquí](https://registry.opendata.aws/amazon-reviews-ml/). Es importante que tengas en cuenta la [licencia](https://docs.opendata.aws/amazon-reviews-ml/license.txt) de este dataset.**\n",
    "\n",
    "### Exploración de datos y Procesamiento del Lenguaje Natural\n",
    "\n",
    "Dedícale un buen tiempo a hacer un Análisis Exploratorio de Datos. Considera que hasta que no hayas aplicado las herramientas de Procesamiento del Lenguaje Natural vistas, será difícil completar este análisis. Elige preguntas que creas que puedas responder con este dataset. Por ejemplo, ¿qué palabras están asociadas a calificaciones positivas y qué palabras a calificaciones negativas?\n",
    "\n",
    "### Machine Learning\n",
    "\n",
    "Implementa un modelo que, dada la crítica de un producto, asigne la cantidad de estrellas correspondiente. **Para pensar**: ¿es un problema de Clasificación o de Regresión?\n",
    "\n",
    "1. Haz todas las transformaciones de datos que consideres necesarias. Justifica.\n",
    "1. Evalúa de forma apropiada sus resultados. Justifica la métrica elegida.\n",
    "1. Elige un modelo benchmark y compara tus resultados con este modelo.\n",
    "1. Optimiza los hiperparámetros de tu modelo.\n",
    "1. Intenta responder la pregunta: ¿Qué información está usando el modelo para predecir?\n",
    "\n",
    "**Recomendación:** si no te resulta conveniente trabajar en español con NLTK, te recomendamos que explores la librería [spaCy](https://spacy.io/).\n",
    "\n",
    "### Para pensar, investigar y, opcionalmente, implementar\n",
    "1. ¿Valdrá la pena convertir el problema de Machine Learning en un problema binario? Es decir, asignar únicamente las etiquetas Positiva y Negativa a cada crítica y hacer un modelo que, en lugar de predecir las estrellas, prediga esa etiqueta. Pensar en qué situación puede ser útil. ¿Esperas que el desempeño sea mejor o peor?\n",
    "1. ¿Hay algo que te gustaría investigar o probar?\n",
    "\n",
    "### **¡Tómate tiempo para investigar y leer mucho!**"
   ]
  },
  {
   "cell_type": "code",
   "execution_count": 1,
   "metadata": {
    "colab": {},
    "colab_type": "code",
    "id": "x1GFwraSISFB"
   },
   "outputs": [],
   "source": [
    "import pandas as pd\n",
    "import seaborn as sns\n",
    "import nltk\n",
    "import matplotlib.pyplot as plt\n",
    "\n",
    "from nltk.tokenize import RegexpTokenizer\n",
    "from nltk.corpus import stopwords\n",
    "\n",
    "import es_core_news_sm\n",
    "\n",
    "from collections import Counter\n",
    "import itertools\n",
    "from wordcloud import WordCloud"
   ]
  },
  {
   "cell_type": "code",
   "execution_count": null,
   "metadata": {},
   "outputs": [],
   "source": [
    "df = pd.read_json('dataset_es_dev.json',lines=True)\n",
    "df_test = pd.read_json('dataset_es_test.json',lines=True)\n",
    "df_train = pd.read_json('dataset_es_train.json',lines=True)"
   ]
  },
  {
   "cell_type": "markdown",
   "metadata": {},
   "source": [
    "# A - Exploración de datos y Procesamiento del Lenguaje Natural"
   ]
  },
  {
   "cell_type": "markdown",
   "metadata": {},
   "source": [
    "Tanto el dataset de formación como el de prueba cuentan con <code>5000 reviews</code>, mientras que el de entrenamiento posee <code>200.000 instancias</code>"
   ]
  },
  {
   "cell_type": "code",
   "execution_count": null,
   "metadata": {},
   "outputs": [],
   "source": [
    "print(df.shape)\n",
    "print(df_test.shape)\n",
    "print(df_train.shape)"
   ]
  },
  {
   "cell_type": "markdown",
   "metadata": {},
   "source": [
    "Todos cuentan con 7 atributos:\n",
    "- ID de reseña\n",
    "- ID de producto\n",
    "- ID de evaluador\n",
    "- Estrellas\n",
    "- Cuerpo de reseña\n",
    "- Título de reseña\n",
    "- Idioma\n",
    "- Categoría de producto\n",
    "\n",
    "Ninguno de los cuales posee valores faltantes"
   ]
  },
  {
   "cell_type": "code",
   "execution_count": null,
   "metadata": {},
   "outputs": [],
   "source": [
    "print(df.info())\n",
    "print(df_test.info())\n",
    "print(df_train.info())"
   ]
  },
  {
   "cell_type": "markdown",
   "metadata": {},
   "source": [
    "La totalidad de las reseñas se encuentran en idioma español"
   ]
  },
  {
   "cell_type": "code",
   "execution_count": null,
   "metadata": {},
   "outputs": [],
   "source": [
    "print(df['language'].unique())\n",
    "print(df_test['language'].unique())\n",
    "print(df_train['language'].unique())"
   ]
  },
  {
   "cell_type": "markdown",
   "metadata": {},
   "source": [
    "Dado que para explorar el dataset completo resulta difícil trabajar con los 3 por separado, los concatenaré a continuación"
   ]
  },
  {
   "cell_type": "code",
   "execution_count": null,
   "metadata": {},
   "outputs": [],
   "source": [
    "df_amazon = pd.concat([df,df_test,df_train],axis=0)\n",
    "df_amazon.head(5)"
   ]
  },
  {
   "cell_type": "markdown",
   "metadata": {},
   "source": [
    "Puedo observar del siguiente gráfico que cada puntaje posee la misma cantidad de reseñas asociadas"
   ]
  },
  {
   "cell_type": "code",
   "execution_count": null,
   "metadata": {},
   "outputs": [],
   "source": [
    "sns.countplot(x = 'stars', data = df_amazon)\n",
    "plt.ylabel('Cantidad de reseñas')\n",
    "plt.xlabel('Puntaje (estrellas)')\n",
    "\n",
    "plt.show()"
   ]
  },
  {
   "cell_type": "code",
   "execution_count": null,
   "metadata": {},
   "outputs": [],
   "source": [
    "print('Existen',str(len(df_amazon['product_category'].unique())),'categorías únicas en el presente dataset')"
   ]
  },
  {
   "cell_type": "markdown",
   "metadata": {},
   "source": [
    "Podemos observar que predominan las reseñas de productos línea **hogar** e **inalámbricos**"
   ]
  },
  {
   "cell_type": "code",
   "execution_count": null,
   "metadata": {},
   "outputs": [],
   "source": [
    "plt.figure(figsize = (10,7))\n",
    "\n",
    "sns.countplot(y = 'product_category', \n",
    "              data = df_amazon,  \n",
    "              order = df_amazon.product_category.value_counts().index)\n",
    "plt.ylabel('Categoría',size=13)\n",
    "plt.xlabel('Cantidad de reviews')\n",
    "plt.tick_params(axis='y', labelsize=13)\n",
    "plt.title('Categorías de los diferentes productos', size=25)\n",
    "plt.show()"
   ]
  },
  {
   "cell_type": "markdown",
   "metadata": {},
   "source": [
    "## Preprocesamiento de las reseñas"
   ]
  },
  {
   "cell_type": "code",
   "execution_count": null,
   "metadata": {},
   "outputs": [],
   "source": [
    "df_amazon['review_entero'] = df_amazon['review_body']+ ' ' + df_amazon['review_title']\n",
    "df_amazon.reset_index(inplace=True,drop=True)\n",
    "df_amazon.head(5)"
   ]
  },
  {
   "cell_type": "markdown",
   "metadata": {},
   "source": [
    "Cargo las palabras comunes (stopwords) en español para luego filtrar las distintas "
   ]
  },
  {
   "cell_type": "code",
   "execution_count": 38,
   "metadata": {},
   "outputs": [],
   "source": [
    "# Función que aplica procesamiento del lenguaje natural a palabras en español\n",
    "nlp = es_core_news_sm.load()\n",
    "\n",
    "stop_words = nlp.Defaults.stop_words"
   ]
  },
  {
   "cell_type": "markdown",
   "metadata": {},
   "source": [
    "A través de la siguiente función se aplica <code>**normalizado**</code> al texto de cada fila. Esto incluye:\n",
    "- <code>Tokenizado</code> (separación de una secuencia de palabras en partes, almacenadas en una lista)\n",
    "- Todas las palabras pasan a ser minúsculas\n",
    "- Se eliminan comas, puntos y palabras de 1 letra (por ejemplo \"y\", \"a\", etc)\n",
    "- Se quitan las <code>stopwords</code>. Estas son palabras que carecen de significado por sí solas, como preposiciones, artículos, conjunciones, pronombres, etc.\n",
    "- <code>Stemming</code> y <code>lemmatizado</code>. En el **stemming** se recorta el principio o el final de la palabra que suele ser común a las diferentes conjugaciones (por ejemplo, palabras \"niñez\", o \"niñas\" al ser stemmizadas quedarían \"niñ\"), mientras que el **lemmatizado** tiene en cuenta el análisis morfológico de la palabra (por ejemplo, palabras como \"estudiando\" o \"estudios\" serían transformadas a \"estudio\")\n",
    "\n",
    "El objetivo de este preprocesamiento, que reducirá el ruido del texto al eliminar las formas infleccionales y a veces derivacionalmente relacionadas a una base común*, es facilitar el posterior análisis de cada reseña mediante algoritmos de clasificación. De esta forma, se podrán predecir con mayor precisión la cantidad de estrellas que daría un usuario dada una reseña\n",
    "\n",
    "*\"**Stemming and lemmatization\", Stanford, Cambridge University Press, 2008, https://nlp.stanford.edu/IR-book/html/htmledition/stemming-and-lemmatization-1.html**\n",
    "\n",
    "\n",
    "McNary, Dave. “Keanu Reeves, Alex Winter Returning for ‘Bill and Ted Face the Music.’” Variety, Penske Media Corporation, 8 May 2018, variety.com/2018/film/news/bill-and-ted-3-keanu-reeves-alex-winter-1202802946/."
   ]
  },
  {
   "cell_type": "code",
   "execution_count": 35,
   "metadata": {},
   "outputs": [],
   "source": [
    "def procesar(texto):\n",
    "    reseña_tk = nltk.RegexpTokenizer('\\w+').tokenize(texto)\n",
    "    reseña_tk_minusculas = [word.lower() for word in reseña_tk if word.lower() not in stop_words]\n",
    "    reseña_limpia = ' '.join(reseña_tk_minusculas)\n",
    "    reseña_limpia = nlp(reseña_limpia)\n",
    "    reseña_lemm = [word.lemma_ for word in reseña_limpia]\n",
    "    reseña_lemm = [t for t in reseña_lemm if len(t)>1]\n",
    "    return reseña_lemm"
   ]
  },
  {
   "cell_type": "code",
   "execution_count": null,
   "metadata": {},
   "outputs": [],
   "source": [
    "procesar(df_amazon.review_entero[0])"
   ]
  },
  {
   "cell_type": "code",
   "execution_count": null,
   "metadata": {},
   "outputs": [],
   "source": [
    "#def procesar(texto):\n",
    "#    palabras = []\n",
    "#    doc = nlp(texto)\n",
    "#    for sent in doc.sentences:\n",
    "#        for word in sent.words:\n",
    "#            palabras.append(word.lemma)\n",
    "#    palabras = list(filter(lambda x: x != \",\" and x != \".\", palabras))\n",
    "#    palabras = [item for item in palabras if item not in stopwords]\n",
    "#    return palabras\n",
    "#procesar(df_amazon['review_entero'][1])"
   ]
  },
  {
   "cell_type": "code",
   "execution_count": null,
   "metadata": {},
   "outputs": [],
   "source": [
    "df_amazon.head(5)"
   ]
  },
  {
   "cell_type": "code",
   "execution_count": null,
   "metadata": {},
   "outputs": [],
   "source": [
    "df_amazon['review_entero_tk'] = df_amazon.apply(lambda row: procesar(row['review_entero']), axis=1)"
   ]
  },
  {
   "cell_type": "markdown",
   "metadata": {},
   "source": [
    "Debido a que el preprocesamiento del dataset consume muchos recursos y por lo tanto lleva algunas horas de ejecución, guardo esta instancia en un archivo Excel para su posterior carga a modo de checkpoint"
   ]
  },
  {
   "cell_type": "code",
   "execution_count": null,
   "metadata": {},
   "outputs": [],
   "source": [
    "df_amazon.to_excel('Preprocesado.xlsx')"
   ]
  },
  {
   "cell_type": "code",
   "execution_count": 151,
   "metadata": {},
   "outputs": [],
   "source": [
    "df_amazon = pd.read_excel('Preprocesado.xlsx').drop(columns='Unnamed: 0')"
   ]
  },
  {
   "cell_type": "code",
   "execution_count": null,
   "metadata": {},
   "outputs": [
    {
     "name": "stderr",
     "output_type": "stream",
     "text": [
      "<ipython-input-152-f2507fca8404>:6: SettingWithCopyWarning: \n",
      "A value is trying to be set on a copy of a slice from a DataFrame\n",
      "\n",
      "See the caveats in the documentation: https://pandas.pydata.org/pandas-docs/stable/user_guide/indexing.html#returning-a-view-versus-a-copy\n",
      "  df_amazon.review_entero_tk[i]=lista\n"
     ]
    }
   ],
   "source": [
    "lista = []\n",
    "for i in range(df_amazon.shape[0]):\n",
    "    titular = df_amazon.iloc[i].review_entero_tk #seleccionar el titular\n",
    "    titular = nltk.RegexpTokenizer('\\w+').tokenize(titular) # Tokenizar \n",
    "    lista.append(titular)\n",
    "    df_amazon.review_entero_tk[i]=lista"
   ]
  },
  {
   "cell_type": "markdown",
   "metadata": {},
   "source": [
    "Graficaré mediante la siguiente función las 5 palabras más comunes de cada grupo de reseñas (agrupadas por cantidad de estrellas)"
   ]
  },
  {
   "cell_type": "code",
   "execution_count": null,
   "metadata": {},
   "outputs": [],
   "source": [
    "for x in range(1,6):\n",
    "    tokenizado_df = df_amazon[df_amazon['stars']==x]\n",
    "    tokenizado_lista = tokenizado_df.review_entero_tk.tolist()\n",
    "\n",
    "    lista = [x for l in tokenizado_lista[0] for x in l]\n",
    "\n",
    "    frecuencia_palabras = Counter(lista)\n",
    "    palabras_comunes = frecuencia_palabras.most_common()\n",
    "    \n",
    "    print(f'5 palabras más comunes para críticas de {x} estrellas')\n",
    "    df_frec = pd.DataFrame(palabras_comunes, columns = ['Palabras', 'Frecuencia'])\n",
    "    print(df_frec.head(5))\n",
    "    print('-------------')\n",
    "    \n",
    "    tamaño_graficos = (200,50)\n",
    "    \n",
    "    fig,(ax1,ax2) = plt.subplots(1,2,figsize=tamaño_graficos)\n",
    "    ax1 = plt.subplot(121)\n",
    "    u_string=(\" \").join(lista)\n",
    "    wc = WordCloud(max_words = 50,width=tamaño_graficos[0]+350,height=tamaño_graficos[1]+250).generate(u_string)\n",
    "    ax1.imshow(wc)\n",
    "    ax1.axis(\"off\")\n",
    "    ax1.set_title(f'Nube de palabras en críticas de {x} estrellas', fontsize=200)\n",
    "\n",
    "    ax2 = plt.subplot(122)\n",
    "    ax2 = sns.barplot(ax=ax2,x = df_frec.iloc[:20].Palabras, y = df_frec.iloc[:20].Frecuencia)\n",
    "    ax2.set_xticklabels(df_frec.iloc[:20].Palabras,fontsize = 100,rotation=90)\n",
    "    ax2.set_yticklabels(df_frec.iloc[:20].Frecuencia,fontsize = 100)\n",
    "    ax2.set_ylabel('Palabras',fontsize=200)\n",
    "    ax2.set_xlabel('Frecuencias',fontsize=200)\n",
    "    ax2.figure.set_size_inches(tamaño_graficos[0],tamaño_graficos[1])\n",
    "    ax2.set_title(f'Frecuencia de palabras en críticas de {x} estrellas',fontsize=200)\n",
    "    ax2.axis(\"on\")\n",
    "    plt.show()    \n",
    "    \n",
    "    print('-------------')"
   ]
  },
  {
   "cell_type": "markdown",
   "metadata": {},
   "source": [
    "# B - Machine Learning"
   ]
  },
  {
   "cell_type": "markdown",
   "metadata": {},
   "source": [
    "## Selección de métrica\n",
    "En primer lugar, cabe aclarar que el problema se trata de clasificación de textos cortos en 5 escalas, tomando como entrada una reseña y devolviendo a partir de ella una predicción sobre cuál será el puntaje dado por el usuario para la compra hecha. Se trata, entonces, de un caso de **clasificación**.\n",
    "\n",
    "Como se puede observar en la celda nº 7, existen igual cantidad de reseñas para cada cantidad de estrellas, lo que implica que el dataset está perfectamente balanceado. Para este tipo de casos, se suele recomendar la utilización de la métrica <code>**Accuracy**</code>. Además, también graficaré la <code>**Matriz de confusión**</code> de cada uno para poder visualizar de qué forma los diferentes modelos clasifican los comentarios de diferentes escalas."
   ]
  },
  {
   "cell_type": "markdown",
   "metadata": {},
   "source": [
    "## Transformaciones"
   ]
  },
  {
   "cell_type": "markdown",
   "metadata": {},
   "source": [
    "Trabajaré con los datasets provistos inicialmente. Estos son:\n",
    "- <code>**df**</code>\n",
    "- <code>**df_test**</code>\n",
    "- <code>**df_train**</code>"
   ]
  },
  {
   "cell_type": "code",
   "execution_count": 32,
   "metadata": {},
   "outputs": [],
   "source": [
    "df = pd.read_json('dataset_es_dev.json',lines=True)\n",
    "df_test = pd.read_json('dataset_es_test.json',lines=True)\n",
    "df_train = pd.read_json('dataset_es_train.json',lines=True)"
   ]
  },
  {
   "cell_type": "markdown",
   "metadata": {},
   "source": [
    "Para facilitar el tratamiento de datos, uniré las reseñas con sus títulos en una misma columna, eliminando las columnas que contienen esta información por separado"
   ]
  },
  {
   "cell_type": "code",
   "execution_count": 33,
   "metadata": {},
   "outputs": [],
   "source": [
    "df['reseña_entera'] = df['review_title'] + ' ' + df['review_body']\n",
    "df['reseña_entera'] = df['reseña_entera'].str.lower()\n",
    "df = df.drop(columns=['language', 'review_id', 'product_id', 'reviewer_id', 'review_body', 'review_title'])\n",
    "\n",
    "df_test['reseña_entera'] = df_test['review_title'] + ' ' + df_test['review_body']\n",
    "df_test['reseña_entera'] = df_test['reseña_entera'].str.lower()\n",
    "df_test = df_test.drop(columns=['language', 'review_id', 'product_id', 'reviewer_id', 'review_body', 'review_title'])\n",
    "\n",
    "df_train['reseña_entera'] = df_train['review_title'] + ' ' + df_train['review_body']\n",
    "df_train['reseña_entera'] = df_train['reseña_entera'].str.lower()\n",
    "df_train = df_train.drop(columns=['language', 'review_id', 'product_id', 'reviewer_id', 'review_body', 'review_title'])"
   ]
  },
  {
   "cell_type": "code",
   "execution_count": 34,
   "metadata": {},
   "outputs": [
    {
     "data": {
      "text/html": [
       "<div>\n",
       "<style scoped>\n",
       "    .dataframe tbody tr th:only-of-type {\n",
       "        vertical-align: middle;\n",
       "    }\n",
       "\n",
       "    .dataframe tbody tr th {\n",
       "        vertical-align: top;\n",
       "    }\n",
       "\n",
       "    .dataframe thead th {\n",
       "        text-align: right;\n",
       "    }\n",
       "</style>\n",
       "<table border=\"1\" class=\"dataframe\">\n",
       "  <thead>\n",
       "    <tr style=\"text-align: right;\">\n",
       "      <th></th>\n",
       "      <th>stars</th>\n",
       "      <th>product_category</th>\n",
       "      <th>reseña_entera</th>\n",
       "    </tr>\n",
       "  </thead>\n",
       "  <tbody>\n",
       "    <tr>\n",
       "      <th>0</th>\n",
       "      <td>1</td>\n",
       "      <td>wireless</td>\n",
       "      <td>no me llego no me llego el articulo me lo mand...</td>\n",
       "    </tr>\n",
       "    <tr>\n",
       "      <th>1</th>\n",
       "      <td>1</td>\n",
       "      <td>home</td>\n",
       "      <td>amazon sigue sin cumplir en las entregas la me...</td>\n",
       "    </tr>\n",
       "    <tr>\n",
       "      <th>2</th>\n",
       "      <td>1</td>\n",
       "      <td>toy</td>\n",
       "      <td>estafa en el envío estoy muy decepcionado con ...</td>\n",
       "    </tr>\n",
       "    <tr>\n",
       "      <th>3</th>\n",
       "      <td>1</td>\n",
       "      <td>home</td>\n",
       "      <td>estafa de amazon mi valoración no es sobre el ...</td>\n",
       "    </tr>\n",
       "    <tr>\n",
       "      <th>4</th>\n",
       "      <td>1</td>\n",
       "      <td>digital_ebook_purchase</td>\n",
       "      <td>no conseguí pasar de la portada en kindle pues...</td>\n",
       "    </tr>\n",
       "    <tr>\n",
       "      <th>...</th>\n",
       "      <td>...</td>\n",
       "      <td>...</td>\n",
       "      <td>...</td>\n",
       "    </tr>\n",
       "    <tr>\n",
       "      <th>4995</th>\n",
       "      <td>5</td>\n",
       "      <td>wireless</td>\n",
       "      <td>perfectos para lo que sirven para lo que cuest...</td>\n",
       "    </tr>\n",
       "    <tr>\n",
       "      <th>4996</th>\n",
       "      <td>5</td>\n",
       "      <td>wireless</td>\n",
       "      <td>buen vendedor, rápido y fiable. material muy f...</td>\n",
       "    </tr>\n",
       "    <tr>\n",
       "      <th>4997</th>\n",
       "      <td>5</td>\n",
       "      <td>home</td>\n",
       "      <td>medallas con bonito grabado se ve bien el grabado</td>\n",
       "    </tr>\n",
       "    <tr>\n",
       "      <th>4998</th>\n",
       "      <td>5</td>\n",
       "      <td>sports</td>\n",
       "      <td>timbre lo compré para mi bici pero finalmente ...</td>\n",
       "    </tr>\n",
       "    <tr>\n",
       "      <th>4999</th>\n",
       "      <td>5</td>\n",
       "      <td>electronics</td>\n",
       "      <td>auriculares sin cables de verdad pues este tip...</td>\n",
       "    </tr>\n",
       "  </tbody>\n",
       "</table>\n",
       "<p>5000 rows × 3 columns</p>\n",
       "</div>"
      ],
      "text/plain": [
       "      stars        product_category  \\\n",
       "0         1                wireless   \n",
       "1         1                    home   \n",
       "2         1                     toy   \n",
       "3         1                    home   \n",
       "4         1  digital_ebook_purchase   \n",
       "...     ...                     ...   \n",
       "4995      5                wireless   \n",
       "4996      5                wireless   \n",
       "4997      5                    home   \n",
       "4998      5                  sports   \n",
       "4999      5             electronics   \n",
       "\n",
       "                                          reseña_entera  \n",
       "0     no me llego no me llego el articulo me lo mand...  \n",
       "1     amazon sigue sin cumplir en las entregas la me...  \n",
       "2     estafa en el envío estoy muy decepcionado con ...  \n",
       "3     estafa de amazon mi valoración no es sobre el ...  \n",
       "4     no conseguí pasar de la portada en kindle pues...  \n",
       "...                                                 ...  \n",
       "4995  perfectos para lo que sirven para lo que cuest...  \n",
       "4996  buen vendedor, rápido y fiable. material muy f...  \n",
       "4997  medallas con bonito grabado se ve bien el grabado  \n",
       "4998  timbre lo compré para mi bici pero finalmente ...  \n",
       "4999  auriculares sin cables de verdad pues este tip...  \n",
       "\n",
       "[5000 rows x 3 columns]"
      ]
     },
     "execution_count": 34,
     "metadata": {},
     "output_type": "execute_result"
    }
   ],
   "source": [
    "df_test"
   ]
  },
  {
   "cell_type": "code",
   "execution_count": 39,
   "metadata": {},
   "outputs": [],
   "source": [
    "df['reseña_entera_tk'] = df.apply(lambda row: procesar(row['reseña_entera']), axis=1)\n",
    "df_test['reseña_entera_tk'] = df_test.apply(lambda row: procesar(row['reseña_entera']), axis=1)\n",
    "df_train['reseña_entera_tk'] = df_train.apply(lambda row: procesar(row['reseña_entera']), axis=1)"
   ]
  },
  {
   "cell_type": "code",
   "execution_count": 45,
   "metadata": {},
   "outputs": [],
   "source": [
    "df.to_excel('ml_df.xlsx')\n",
    "df_test.to_excel('ml_df_test.xlsx')\n",
    "df_train.to_excel('ml_df_train.xlsx')"
   ]
  },
  {
   "cell_type": "code",
   "execution_count": 50,
   "metadata": {},
   "outputs": [],
   "source": [
    "df['reseña_entera_tk'] = df['reseña_entera_tk'].apply(str)\n",
    "df_test['reseña_entera_tk'] = df_test['reseña_entera_tk'].apply(str)\n",
    "df_train['reseña_entera_tk'] = df_train['reseña_entera_tk'].apply(str)"
   ]
  },
  {
   "cell_type": "markdown",
   "metadata": {},
   "source": [
    "A continuación, aplicaré vectorización a través del factor de ponderación <code>**Tf-idf**</code>. Este determina la relevancia de una palabra a partir de la frecuencia con la que aparece en un documento presente en una colección de documentos.\n",
    "\n",
    "Al tener en cuenta la frecuencia *inversa* dentro de la colección de documentos, este ponderador puede atenuar el efecto que produce que algunas palabras sean más comunes en la misma.\n",
    "\n",
    "Un peso alto en <code>**Tf-idf**</code> se alcanza con una elevada frecuencia de término (en el documento dado) y una pequeña frecuencia de ocurrencia del término en la colección completa de documentos"
   ]
  },
  {
   "cell_type": "code",
   "execution_count": 86,
   "metadata": {},
   "outputs": [],
   "source": [
    "from sklearn.feature_extraction.text import TfidfVectorizer\n",
    "from sklearn.naive_bayes import GaussianNB\n",
    "from sklearn.metrics import accuracy_score\n",
    "from sklearn.metrics import confusion_matrix\n",
    "from sklearn.ensemble import RandomForestClassifier\n",
    "from sklearn.svm import LinearSVC"
   ]
  },
  {
   "cell_type": "code",
   "execution_count": 52,
   "metadata": {},
   "outputs": [
    {
     "name": "stdout",
     "output_type": "stream",
     "text": [
      "Train (200000, 340)\n",
      "Test (5000, 340)\n",
      "Data dev  (5000, 340)\n"
     ]
    }
   ],
   "source": [
    "lista_reseñas_test = list(df_test['reseña_entera_tk'].values) #test\n",
    "calif_test = df_test['stars'].values\n",
    "\n",
    "lista_reseñas_train = list(df_train['reseña_entera_tk'].values) #train\n",
    "calif_train = df_train['stars'].values \n",
    "\n",
    "lista_reseñas = list(df['reseña_entera_tk'].values) #data dev\n",
    "calif = df['stars'].values \n",
    "\n",
    "#TfidfVectorizer\n",
    "tfidf = TfidfVectorizer(max_features=1000, min_df=30)\n",
    "\n",
    "#Transformo en matriz\n",
    "matriz_reseña_test= tfidf.fit_transform(lista_reseñas_test)\n",
    "matriz_reseña_train = tfidf.transform(lista_reseñas_train)\n",
    "matriz_reseña_dev = tfidf.transform(lista_reseñas)\n",
    "\n",
    "print('Train', matriz_reseña_train.shape)\n",
    "print('Test', matriz_reseña_test.shape)\n",
    "print('Data dev ', matriz_reseña_dev.shape)"
   ]
  },
  {
   "cell_type": "code",
   "execution_count": 55,
   "metadata": {},
   "outputs": [],
   "source": [
    "matriz_reseña_train = matriz_reseña_train.astype('float32')\n",
    "calif_train = calif_train.astype('int8')\n",
    "\n",
    "matriz_reseña_test = matriz_reseña_test.astype('float32')\n",
    "calif_test= calif_test.astype('int8')\n",
    "\n",
    "matriz_reseña_dev = matriz_reseña_dev.astype('float32')\n",
    "calif= calif.astype('int8')"
   ]
  },
  {
   "cell_type": "code",
   "execution_count": 57,
   "metadata": {},
   "outputs": [],
   "source": [
    "#TRAIN\n",
    "X_train = matriz_reseña_train.toarray()\n",
    "y_train = calif_train\n",
    "\n",
    "#TEST\n",
    "X_test = matriz_reseña_test.toarray()\n",
    "y_test = calif_test\n",
    "\n",
    "#DATA\n",
    "X = matriz_reseña_dev.toarray()\n",
    "y = calif"
   ]
  },
  {
   "cell_type": "markdown",
   "metadata": {},
   "source": [
    "## Entrenamiento de modelos"
   ]
  },
  {
   "cell_type": "markdown",
   "metadata": {},
   "source": [
    "A continuación, entrenaré un modelo Naive-Bayes y lo consideraré modelo base para comparar su rendimiento con distintos modelos de clasificación"
   ]
  },
  {
   "cell_type": "code",
   "execution_count": 145,
   "metadata": {},
   "outputs": [
    {
     "data": {
      "text/plain": [
       "GaussianNB()"
      ]
     },
     "execution_count": 145,
     "metadata": {},
     "output_type": "execute_result"
    }
   ],
   "source": [
    "nb = GaussianNB()\n",
    "nb.fit(X_train,y_train)"
   ]
  },
  {
   "cell_type": "markdown",
   "metadata": {},
   "source": [
    "A continuación, probaré distintos modelos de ML para ver sus rendimientos"
   ]
  },
  {
   "cell_type": "code",
   "execution_count": 82,
   "metadata": {},
   "outputs": [
    {
     "data": {
      "text/plain": [
       "RandomForestClassifier(max_depth=20, random_state=42)"
      ]
     },
     "execution_count": 82,
     "metadata": {},
     "output_type": "execute_result"
    }
   ],
   "source": [
    "random_forest = RandomForestClassifier(max_depth=20, \n",
    "                                       random_state=42)\n",
    "random_forest.fit(X_train,y_train)"
   ]
  },
  {
   "cell_type": "code",
   "execution_count": 87,
   "metadata": {},
   "outputs": [
    {
     "data": {
      "text/plain": [
       "LinearSVC(C=1, random_state=42)"
      ]
     },
     "execution_count": 87,
     "metadata": {},
     "output_type": "execute_result"
    }
   ],
   "source": [
    "svc = LinearSVC(C = 1, random_state=42)\n",
    "svc.fit(X_train, y_train)"
   ]
  },
  {
   "cell_type": "markdown",
   "metadata": {},
   "source": [
    "## Predicciones y resultados"
   ]
  },
  {
   "cell_type": "code",
   "execution_count": 146,
   "metadata": {},
   "outputs": [
    {
     "name": "stdout",
     "output_type": "stream",
     "text": [
      "Accuracy train NB:  0.414865\n",
      "Accuracy test NB:  0.4212\n"
     ]
    }
   ],
   "source": [
    "y_train_pred = nb.predict(X_train)\n",
    "y_test_pred = nb.predict(X_test)\n",
    "\n",
    "print(\"Accuracy train NB: \", accuracy_score(y_train, y_train_pred))\n",
    "print(\"Accuracy test NB: \", accuracy_score(y_test, y_test_pred))"
   ]
  },
  {
   "cell_type": "code",
   "execution_count": 149,
   "metadata": {},
   "outputs": [
    {
     "name": "stdout",
     "output_type": "stream",
     "text": [
      "Accuracy train Random Forest:  0.48551\n",
      "Accuracy test Random Forest:  0.4256\n"
     ]
    }
   ],
   "source": [
    "y_train_pred_rf = random_forest.predict(X_train)\n",
    "y_test_pred_rf = random_forest.predict(X_test)\n",
    "\n",
    "print(\"Accuracy train Random Forest: \", accuracy_score(y_train, y_train_pred_rf))\n",
    "print(\"Accuracy test Random Forest: \", accuracy_score(y_test, y_test_pred_rf))"
   ]
  },
  {
   "cell_type": "code",
   "execution_count": 89,
   "metadata": {},
   "outputs": [
    {
     "name": "stdout",
     "output_type": "stream",
     "text": [
      "Accuracy train SVC:  0.46208\n",
      "Accuracy test SVC:  0.4652\n"
     ]
    }
   ],
   "source": [
    "y_train_pred_svc= svc.predict(X_train)\n",
    "y_test_pred_svc = svc.predict(X_test)\n",
    "\n",
    "print(\"Accuracy train SVC: \", accuracy_score(y_train, y_train_pred_svc))\n",
    "print(\"Accuracy test SVC: \", accuracy_score(y_test, y_test_pred_svc))"
   ]
  },
  {
   "cell_type": "markdown",
   "metadata": {},
   "source": [
    "El modelo que presenta mayor accuracy en test es el de <code>SVC</code>. El hecho que Random Forest presente una marcada mayor precisión sobre el dataset de *entrenamiento* pero no sobre el de prueba revela que este presenta **overfitting**"
   ]
  },
  {
   "cell_type": "markdown",
   "metadata": {},
   "source": [
    "A continuación, graficaré las matrices de confusión para los modelos seleccionados"
   ]
  },
  {
   "cell_type": "code",
   "execution_count": 150,
   "metadata": {},
   "outputs": [
    {
     "name": "stdout",
     "output_type": "stream",
     "text": [
      "Modelo: Naive-Bayes\n"
     ]
    },
    {
     "data": {
      "image/png": "[encoded data removed]",
      "text/plain": [
       "<Figure size 576x576 with 2 Axes>"
      ]
     },
     "metadata": {
      "needs_background": "light"
     },
     "output_type": "display_data"
    },
    {
     "name": "stdout",
     "output_type": "stream",
     "text": [
      "Modelo: Random Forest\n"
     ]
    },
    {
     "data": {
      "image/png": "[encoded data removed]",
      "text/plain": [
       "<Figure size 576x576 with 2 Axes>"
      ]
     },
     "metadata": {
      "needs_background": "light"
     },
     "output_type": "display_data"
    },
    {
     "name": "stdout",
     "output_type": "stream",
     "text": [
      "Modelo: SVC\n"
     ]
    },
    {
     "data": {
      "image/png": "[encoded data removed]",
      "text/plain": [
       "<Figure size 576x576 with 2 Axes>"
      ]
     },
     "metadata": {
      "needs_background": "light"
     },
     "output_type": "display_data"
    }
   ],
   "source": [
    "lista_modelos = ([y_test_pred,'Naive-Bayes'],[y_test_pred_rf,'Random Forest'],[y_test_pred_svc,'SVC'])\n",
    "\n",
    "for i in range(0,3):\n",
    "    print('Modelo: '+lista_modelos[i][1])\n",
    "    calificacion=[\"1 estrella\",\"2 estrellas\", \"3 estrellas\", \"4 estrellas\", \"5 estrellas\"]\n",
    "    cm = confusion_matrix(y_test,lista_modelos[i][0])\n",
    "    f,ax = plt.subplots(figsize=(8,8))\n",
    "    sns.heatmap(cm, square = True, annot=True, fmt= '.0f',annot_kws={'size': 13}, cmap= 'RdYlGn',ax=ax)\n",
    "\n",
    "    plt.xlabel(\"Test\", size =20)\n",
    "    plt.ylabel(\"Entrenamiento\", size =20)\n",
    "    ax.set_xticklabels(calificacion)\n",
    "    ax.set_yticklabels(calificacion)\n",
    "    plt.show()"
   ]
  },
  {
   "cell_type": "markdown",
   "metadata": {},
   "source": [
    "Puedo concluir a partir de estos resultados que <code>Random Forest</code> es el que mejor predice resultados intermedios (**3 estrellas**), mientras que los otros 2 cuentan con mayor precisión en las reseñas con una tendencia más marcada (**1 ó 5 estrellas**). Esto se puede corroborar en las nubes de palabras, donde la mayoría de las palabas utilizadas son comunes para las reseñas entre 2 y 4 estrellas, mientras que en las más extremas presentan palabras particulares, como \"malo\" o \"excelente\"\n",
    "\n",
    "Sin embargo, la precisión es marcadamente mejor en el SVC, además de que en el de Random Forest existe overfitting, por lo que el mejor modelo sigue siendo el de SVC."
   ]
  }
 ],
 "metadata": {
  "colab": {
   "collapsed_sections": [],
   "name": "DS_Proyecto_03_NLP.ipynb",
   "provenance": []
  },
  "kernelspec": {
   "display_name": "Python 3",
   "language": "python",
   "name": "python3"
  },
  "language_info": {
   "codemirror_mode": {
    "name": "ipython",
    "version": 3
   },
   "file_extension": ".py",
   "mimetype": "text/x-python",
   "name": "python",
   "nbconvert_exporter": "python",
   "pygments_lexer": "ipython3",
   "version": "3.8.5"
  }
 },
 "nbformat": 4,
 "nbformat_minor": 4
}
